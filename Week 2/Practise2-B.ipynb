{
 "cells": [
  {
   "cell_type": "code",
   "execution_count": 8,
   "metadata": {},
   "outputs": [
    {
     "name": "stdout",
     "output_type": "stream",
     "text": [
      "Choose yout first choice (JOD ,TL ,USD) :JOD\n",
      "Choose yout sencond choice (JOD ,TL ,USD) :TL\n",
      "How much JOD do you want to convert ?150\n",
      "1180.5\n"
     ]
    }
   ],
   "source": [
    "def Currency_Converter(C1,C2):\n",
    "    \n",
    "    Amount = float(input(\"How much \" + C1 + \" do you want to convert ?\"))\n",
    "    \n",
    "    if C1 == \"JOD\":\n",
    "        if C2 == \"TL\":\n",
    "             print(Amount*7.87)\n",
    "        elif C2 == \"USD\":\n",
    "            print(Amount*1.41)\n",
    "        else:\n",
    "            print(\"Your choice is invalid , Try again\")\n",
    "    \n",
    "    elif C1 == \"TL\":\n",
    "        if C2 == \"JOD\":\n",
    "            print(Amount*0.13)\n",
    "        elif C2 == \"USD\":\n",
    "            print(Amount*0.18)\n",
    "        else:\n",
    "            print(\"Your choice is invalid , Try again\")\n",
    "        \n",
    "    elif C1 == \"USD\":\n",
    "        if C2 == \"JOD\":\n",
    "            print(Amount*0.71)\n",
    "        elif C2 == \"TL\":\n",
    "            print(Amount*5.58)\n",
    "        else:\n",
    "            print(\"Your choice is invalid , Try again\")\n",
    "    \n",
    "    else:\n",
    "        print(\"Your choice is invalid , Try again\")\n",
    "        \n",
    "option1 = input(\"Choose yout first choice (JOD ,TL ,USD) :\")\n",
    "option2 = input(\"Choose yout sencond choice (JOD ,TL ,USD) :\") \n",
    "\n",
    "Currency_Converter(option1,option2)"
   ]
  }
 ],
 "metadata": {
  "kernelspec": {
   "display_name": "Python 3",
   "language": "python",
   "name": "python3"
  },
  "language_info": {
   "codemirror_mode": {
    "name": "ipython",
    "version": 3
   },
   "file_extension": ".py",
   "mimetype": "text/x-python",
   "name": "python",
   "nbconvert_exporter": "python",
   "pygments_lexer": "ipython3",
   "version": "3.7.0"
  }
 },
 "nbformat": 4,
 "nbformat_minor": 2
}
