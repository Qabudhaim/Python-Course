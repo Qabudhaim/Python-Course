{
 "cells": [
  {
   "cell_type": "code",
   "execution_count": 16,
   "metadata": {},
   "outputs": [
    {
     "name": "stdout",
     "output_type": "stream",
     "text": [
      "['Ajloun', 'Amman', 'Aqaba', 'Irbid', 'Jerash', 'Karak', \"Ma'an\", 'Madaba', 'Mafraq', 'Tafilah', 'Zarqa', 'al-Balqa']\n",
      "Ajloun\n",
      "Amman\n",
      "Aqaba\n",
      "*******\n",
      "Amman\n",
      "Aqaba\n",
      "Irbid\n",
      "Karak\n",
      "Ma'an\n",
      "Zarqa\n"
     ]
    }
   ],
   "source": [
    "States = [\"Amman\" , \"Zarqa\" , \"Irbid\" , \"Madaba\" , \"Mafraq\" , \"al-Balqa\" , \"Jerash\" , \"Ma'an\" , \"Tafilah\" , \"Aqaba\" , \"Ajloun\" , \"Karak\"]\n",
    "\n",
    "States.sort()\n",
    "print(States)\n",
    "\n",
    "for state in States:\n",
    "    if state[0] == \"A\":\n",
    "        print(state)\n",
    "        \n",
    "print(\"*******\")\n",
    "        \n",
    "for state in States:\n",
    "    if len(state) == 5:\n",
    "        print(state)"
   ]
  }
 ],
 "metadata": {
  "kernelspec": {
   "display_name": "Python 3",
   "language": "python",
   "name": "python3"
  },
  "language_info": {
   "codemirror_mode": {
    "name": "ipython",
    "version": 3
   },
   "file_extension": ".py",
   "mimetype": "text/x-python",
   "name": "python",
   "nbconvert_exporter": "python",
   "pygments_lexer": "ipython3",
   "version": "3.7.0"
  }
 },
 "nbformat": 4,
 "nbformat_minor": 2
}
