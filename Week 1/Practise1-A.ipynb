{
 "cells": [
  {
   "cell_type": "code",
   "execution_count": 11,
   "metadata": {},
   "outputs": [
    {
     "name": "stdout",
     "output_type": "stream",
     "text": [
      "Enter your name:Qusay\n",
      "Enter the first number:4\n",
      "Enter the second number:8\n",
      "Hi Mr/Mrs Qusay,\n",
      "The Sum of 4 and 8 is: 12\n",
      "The Sub of 4 and 8 is: -4\n",
      "The Mul of 4 over 8 is: 32\n",
      "The Div of 4 and 8 is: 0.5\n",
      "The Remainder of 4 over 8 is: 4\n",
      "The Exponent of 4 to the power of 8 is: 65536\n"
     ]
    }
   ],
   "source": [
    "Name = input(\"Enter your name:\")\n",
    "N1 = int(input(\"Enter the first number:\"))\n",
    "N2 = int(input(\"Enter the second number:\"))\n",
    "\n",
    "print(f\"Hi Mr/Mrs {Name},\")\n",
    "print(f\"The Sum of {N1} and {N2} is: {N1+N2}\")\n",
    "print(f\"The Sub of {N1} and {N2} is: {N1-N2}\")\n",
    "print(f\"The Mul of {N1} over {N2} is: {N1*N2}\")\n",
    "print(f\"The Div of {N1} and {N2} is: {N1/N2}\")\n",
    "print(f\"The Remainder of {N1} over {N2} is: {N1%N2}\")\n",
    "print(f\"The Exponent of {N1} to the power of {N2} is: {N1**N2}\")"
   ]
  }
 ],
 "metadata": {
  "kernelspec": {
   "display_name": "Python 3",
   "language": "python",
   "name": "python3"
  },
  "language_info": {
   "codemirror_mode": {
    "name": "ipython",
    "version": 3
   },
   "file_extension": ".py",
   "mimetype": "text/x-python",
   "name": "python",
   "nbconvert_exporter": "python",
   "pygments_lexer": "ipython3",
   "version": "3.7.0"
  }
 },
 "nbformat": 4,
 "nbformat_minor": 2
}
