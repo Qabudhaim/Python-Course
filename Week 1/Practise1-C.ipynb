{
 "cells": [
  {
   "cell_type": "code",
   "execution_count": 4,
   "metadata": {},
   "outputs": [
    {
     "name": "stdout",
     "output_type": "stream",
     "text": [
      "Enter your temperature here:654\n",
      "Enter Temp's type C/F:F\n",
      "The temperature in Celsius = 345.55555555555554\n"
     ]
    }
   ],
   "source": [
    "Temp = float(input(\"Enter your temperature here:\"))\n",
    "Type = input(\"Enter Temp's type C/F:\")\n",
    "\n",
    "if Type == \"C\":\n",
    "    F = (9/5) * Temp + 32\n",
    "    print(f\"The temperature on Fahrenheit = {F}\")\n",
    "    \n",
    "if Type == \"F\":\n",
    "    C=(Temp-32)*(5/9)\n",
    "    print(f\"The temperature in Celsius = {C}\")"
   ]
  }
 ],
 "metadata": {
  "kernelspec": {
   "display_name": "Python 3",
   "language": "python",
   "name": "python3"
  },
  "language_info": {
   "codemirror_mode": {
    "name": "ipython",
    "version": 3
   },
   "file_extension": ".py",
   "mimetype": "text/x-python",
   "name": "python",
   "nbconvert_exporter": "python",
   "pygments_lexer": "ipython3",
   "version": "3.7.0"
  }
 },
 "nbformat": 4,
 "nbformat_minor": 2
}
