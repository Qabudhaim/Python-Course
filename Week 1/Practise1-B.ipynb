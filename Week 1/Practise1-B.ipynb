{
 "cells": [
  {
   "cell_type": "code",
   "execution_count": 24,
   "metadata": {},
   "outputs": [
    {
     "name": "stdout",
     "output_type": "stream",
     "text": [
      "Enter your number:105.5\n",
      "105.5\n"
     ]
    }
   ],
   "source": [
    "x = float(input(\"Enter your number:\"))\n",
    "\n",
    "if x<-100:\n",
    "    f=-x\n",
    "    print(-x)\n",
    "\n",
    "elif x >=-100 and x<=-25:\n",
    "    f=x**4\n",
    "    print(f)\n",
    "    \n",
    "elif x > -25 and x <=0:\n",
    "    f=3*x**2-1\n",
    "    print(f)\n",
    "    \n",
    "elif x >0 and x<=100:\n",
    "    f =3.14/2*x + 3**x\n",
    "    print(f)\n",
    "\n",
    "else:\n",
    "    f=x\n",
    "    print(f)\n",
    "    \n",
    "#Float, if we assume that x will be of int type only and f(x) is int as well, then the program will round the entered number automatically, after that if the result of f(x) is float, the program will round it again, in this case the program rounds the number 2 times\n",
    "#but if use float it will round it 1 time only\n",
    "    "
   ]
  }
 ],
 "metadata": {
  "kernelspec": {
   "display_name": "Python 3",
   "language": "python",
   "name": "python3"
  },
  "language_info": {
   "codemirror_mode": {
    "name": "ipython",
    "version": 3
   },
   "file_extension": ".py",
   "mimetype": "text/x-python",
   "name": "python",
   "nbconvert_exporter": "python",
   "pygments_lexer": "ipython3",
   "version": "3.7.0"
  }
 },
 "nbformat": 4,
 "nbformat_minor": 2
}
