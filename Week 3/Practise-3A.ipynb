{
 "cells": [
  {
   "cell_type": "code",
   "execution_count": 4,
   "metadata": {},
   "outputs": [
    {
     "name": "stdout",
     "output_type": "stream",
     "text": [
      "http://data.fixer.io/api/latest?access_key=ed587c0cfd420636d243757d7c877ad2\n",
      "Choose 'base' currency:USD\n",
      "Choose to currency:JOD\n",
      "Enter your amount:1000\n",
      "709.5045337072038\n"
     ]
    }
   ],
   "source": [
    "import requests \n",
    "\n",
    "Access =\"access_key=ed587c0cfd420636d243757d7c877ad2\"\n",
    "\n",
    "\n",
    "link = \"http://data.fixer.io/api/latest?\"+Access\n",
    "\n",
    "print(link)\n",
    "\n",
    "data = requests.get(link).json()\n",
    "\n",
    "    \n",
    "base = input(\"Choose 'base' currency:\")\n",
    "if base in data[\"rates\"]:\n",
    "    to = input(\"Choose to currency:\")\n",
    "    if to in data[\"rates\"]:\n",
    "        amount = int(input(\"Enter your amount:\"))\n",
    "        result = (float(data[\"rates\"][to])/float(data[\"rates\"][base])) * amount\n",
    "        print(result)\n",
    "    else:\n",
    "        to = input(\"Choose an appropriate'to'currency:\")\n",
    "else:\n",
    "    base = input(\"Choose an appropriate'base'currency:\")"
   ]
  }
 ],
 "metadata": {
  "kernelspec": {
   "display_name": "Python 3",
   "language": "python",
   "name": "python3"
  },
  "language_info": {
   "codemirror_mode": {
    "name": "ipython",
    "version": 3
   },
   "file_extension": ".py",
   "mimetype": "text/x-python",
   "name": "python",
   "nbconvert_exporter": "python",
   "pygments_lexer": "ipython3",
   "version": "3.7.0"
  }
 },
 "nbformat": 4,
 "nbformat_minor": 2
}
