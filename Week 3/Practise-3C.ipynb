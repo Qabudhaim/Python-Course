{
 "cells": [
  {
   "cell_type": "code",
   "execution_count": 57,
   "metadata": {},
   "outputs": [
    {
     "name": "stdout",
     "output_type": "stream",
     "text": [
      ".ipynb_checkpoints\n",
      "3.0 Assignments Solutions.ipynb\n",
      "3.1 Tuples and Dictionaries.ipynb\n",
      "3.2.1 Intro to APIs and ISS.ipynb\n",
      "3.2.2 Google API! .ipynb\n",
      "3.2.3 FOREX, Weather and Translation.ipynb\n",
      "3.4 Writing and Reading Files in Python.ipynb\n",
      "3.5 Exception Handling.ipynb\n",
      "appendfile.txt\n",
      "asdf\n",
      "demo.txt\n",
      "demofile.txt\n",
      "Practise-3A.ipynb\n",
      "Practise-3B.ipynb\n",
      "Untitled.ipynb\n",
      "Choose the file you want to raname:asdf\n",
      "Choose your file's new name:Qusay\n",
      "asdf is successfully renamed\n"
     ]
    }
   ],
   "source": [
    "import os\n",
    "\n",
    "count=0\n",
    "\n",
    "list = os.listdir()\n",
    "\n",
    "for file in list:\n",
    "    print (file)\n",
    "    \n",
    "file_name = input(\"Choose the file you want to raname:\")\n",
    "\n",
    "        \n",
    "new_name = input(\"Choose your file's new name:\")\n",
    "os.rename(file_name, new_name)\n",
    "print(file_name+\" is successfully renamed\")"
   ]
  }
 ],
 "metadata": {
  "kernelspec": {
   "display_name": "Python 3",
   "language": "python",
   "name": "python3"
  },
  "language_info": {
   "codemirror_mode": {
    "name": "ipython",
    "version": 3
   },
   "file_extension": ".py",
   "mimetype": "text/x-python",
   "name": "python",
   "nbconvert_exporter": "python",
   "pygments_lexer": "ipython3",
   "version": "3.7.0"
  }
 },
 "nbformat": 4,
 "nbformat_minor": 2
}
