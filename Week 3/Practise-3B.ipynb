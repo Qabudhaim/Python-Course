{
 "cells": [
  {
   "cell_type": "code",
   "execution_count": 10,
   "metadata": {},
   "outputs": [
    {
     "name": "stdout",
     "output_type": "stream",
     "text": [
      "Enter your country's ID:524901\n",
      "Day1 :261.45\n",
      "Day2 :261.41\n",
      "Day3 :261.76\n",
      "Day4 :261.46\n",
      "Day5 :260.981\n"
     ]
    }
   ],
   "source": [
    "\n",
    "import requests\n",
    "\n",
    "id = input(\"Enter your country's ID:\")\n",
    "\n",
    "#524901\n",
    "\n",
    "link = \"https://samples.openweathermap.org/data/2.5/forecast?id=\"+id+\"&appid=b6907d289e10d714a6e88b30761fae22\"\n",
    "\n",
    "data = requests.get(link).json()\n",
    "\n",
    "#print(data)\n",
    "\n",
    "print(\"Day1 :\", end=\"\" )\n",
    "print(data[\"list\"][0][\"main\"][\"temp\"])\n",
    "\n",
    "print(\"Day2 :\", end=\"\" )\n",
    "print(data[\"list\"][1][\"main\"][\"temp\"])\n",
    "\n",
    "print(\"Day3 :\", end=\"\" )\n",
    "print(data[\"list\"][2][\"main\"][\"temp\"])\n",
    "\n",
    "print(\"Day4 :\", end=\"\" )\n",
    "print(data[\"list\"][3][\"main\"][\"temp\"])\n",
    "\n",
    "print(\"Day5 :\", end=\"\" )\n",
    "print(data[\"list\"][4][\"main\"][\"temp\"])"
   ]
  }
 ],
 "metadata": {
  "kernelspec": {
   "display_name": "Python 3",
   "language": "python",
   "name": "python3"
  },
  "language_info": {
   "codemirror_mode": {
    "name": "ipython",
    "version": 3
   },
   "file_extension": ".py",
   "mimetype": "text/x-python",
   "name": "python",
   "nbconvert_exporter": "python",
   "pygments_lexer": "ipython3",
   "version": "3.7.0"
  }
 },
 "nbformat": 4,
 "nbformat_minor": 2
}
