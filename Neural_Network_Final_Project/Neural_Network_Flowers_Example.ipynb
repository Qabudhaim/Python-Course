{
 "cells": [
  {
   "cell_type": "code",
   "execution_count": 1,
   "metadata": {},
   "outputs": [],
   "source": [
    "from matplotlib import pyplot as plt\n",
    "import numpy as np\n",
    "import win32com.client\n",
    "speaker = win32com.client.Dispatch(\"SAPI.SpVoice\")"
   ]
  },
  {
   "cell_type": "code",
   "execution_count": 2,
   "metadata": {},
   "outputs": [],
   "source": [
    "#each point is length, width, type (0, 1)\n",
    "\n",
    "data = [[3   , 1.5 , 1 ],\n",
    "        [2   , 1   , 0 ], \n",
    "        [4   , 1.5 , 1 ],\n",
    "        [3   , 1   , 0 ], \n",
    "        [3.5 , .5  , 1 ],\n",
    "        [2   , .5  , 0 ],\n",
    "        [5.5 , 1   , 1 ],\n",
    "        [1   , 1   , 0 ]]\n",
    "\n",
    "mystery_flower = [4.5 , 1]"
   ]
  },
  {
   "cell_type": "code",
   "execution_count": 3,
   "metadata": {},
   "outputs": [
    {
     "data": {
      "image/png": "[encoded data removed]",
      "text/plain": [
       "<Figure size 432x288 with 1 Axes>"
      ]
     },
     "metadata": {
      "needs_background": "light"
     },
     "output_type": "display_data"
    }
   ],
   "source": [
    "for i in range(len(data)):\n",
    "    point = data[i]\n",
    "    color = \"r\"\n",
    "    if point[2] == 0:\n",
    "        color = \"b\"\n",
    "    plt.scatter(point[0], point[1], c = color)"
   ]
  },
  {
   "cell_type": "code",
   "execution_count": 4,
   "metadata": {},
   "outputs": [],
   "source": [
    "def sigmoid(x):\n",
    "    return 1 / (1 + np.exp(-x))\n",
    "\n",
    "def sigmoid_p(x):\n",
    "    return sigmoid(x)* (1-sigmoid(x))"
   ]
  },
  {
   "cell_type": "code",
   "execution_count": 5,
   "metadata": {},
   "outputs": [
    {
     "data": {
      "text/plain": [
       "[<matplotlib.lines.Line2D at 0x2af303c8470>]"
      ]
     },
     "execution_count": 5,
     "metadata": {},
     "output_type": "execute_result"
    },
    {
     "data": {
      "image/png": "[encoded data removed]",
      "text/plain": [
       "<Figure size 432x288 with 1 Axes>"
      ]
     },
     "metadata": {
      "needs_background": "light"
     },
     "output_type": "display_data"
    }
   ],
   "source": [
    "T = np.linspace(-6,6)\n",
    "plt.plot(T, sigmoid(T), c = 'b')\n",
    "plt.plot(T, sigmoid_p(T), c ='r')"
   ]
  },
  {
   "cell_type": "code",
   "execution_count": 6,
   "metadata": {},
   "outputs": [
    {
     "data": {
      "text/plain": [
       "[<matplotlib.lines.Line2D at 0x2af304b2d68>]"
      ]
     },
     "execution_count": 6,
     "metadata": {},
     "output_type": "execute_result"
    },
    {
     "data": {
      "image/png": "[encoded data removed]",
      "text/plain": [
       "<Figure size 432x288 with 1 Axes>"
      ]
     },
     "metadata": {
      "needs_background": "light"
     },
     "output_type": "display_data"
    }
   ],
   "source": [
    "learning_rate = 0.2\n",
    "\n",
    "costs = []\n",
    "\n",
    "w1 = np.random.randn()\n",
    "w2 = np.random.randn()\n",
    "b = np.random.randn()\n",
    "\n",
    "\n",
    "for i in range(50000):\n",
    "    ri = np.random.randint(len(data))\n",
    "    point = data[ri]\n",
    "    \n",
    "    z = w1*point[0] + w2*point[1] + b\n",
    "    pred = sigmoid(z)\n",
    "    target = point[2]\n",
    "    cost = np.square(pred - target)\n",
    "    \n",
    "    dcost_dpred = 2 * (pred - target)\n",
    "    dpred_dz = sigmoid_p(z)\n",
    "    \n",
    "    dz_dw1 = point[0]\n",
    "    dz_dw2 = point[1]\n",
    "    dz_db  = 1\n",
    "    \n",
    "    dcost_dw1 = dcost_dpred * dpred_dz * dz_dw1\n",
    "    dcost_dw2 = dcost_dpred * dpred_dz * dz_dw2\n",
    "    dcost_db  = dcost_dpred * dpred_dz * dz_db\n",
    "\n",
    "    w1 = w1 - learning_rate * dcost_dw1\n",
    "    w2 = w2 - learning_rate * dcost_dw2\n",
    "    b  = b  - learning_rate * dcost_db\n",
    "    \n",
    "    \n",
    "    if i % 100 == 0:\n",
    "        cost_sum = 0\n",
    "        for j in range(len(data)):\n",
    "            point = data[j]\n",
    "            \n",
    "            z = w1*point[0] + w2*point[1] + b\n",
    "            pred = sigmoid(z)\n",
    "            target = point[2]\n",
    "            cost = np.square(pred - target)\n",
    "            \n",
    "            cost_sum = cost_sum + cost\n",
    "                     \n",
    "    costs.append(cost_sum / len(data))        \n",
    "            \n",
    "    \n",
    "\n",
    "plt.plot(costs)\n"
   ]
  },
  {
   "cell_type": "code",
   "execution_count": 7,
   "metadata": {},
   "outputs": [
    {
     "name": "stdout",
     "output_type": "stream",
     "text": [
      "[3, 1.5, 1]\n",
      "0.7472799488590679\n",
      "[2, 1, 0]\n",
      "0.0006119302856869038\n",
      "[4, 1.5, 1]\n",
      "0.9996312105457176\n",
      "[3, 1, 0]\n",
      "0.3595030281914579\n",
      "[3.5, 0.5, 1]\n",
      "0.763357885174289\n",
      "[2, 0.5, 0]\n",
      "0.00011621418920039584\n",
      "[5.5, 1, 1]\n",
      "0.9999999299722317\n",
      "[1, 1, 0]\n",
      "6.67959009572878e-07\n"
     ]
    }
   ],
   "source": [
    "for i in range(len(data)):\n",
    "    point = data[i]\n",
    "    \n",
    "    z = w1*point[0] + w2*point[1] + b\n",
    "    pred = sigmoid(z)\n",
    "    print(point)\n",
    "    print(pred)\n"
   ]
  },
  {
   "cell_type": "code",
   "execution_count": 12,
   "metadata": {},
   "outputs": [],
   "source": [
    "mystery_flower = [4.5 , 1]\n",
    "\n",
    "z = w1*mystery_flower[0] + w2*mystery_flower[1] + b\n",
    "pred = sigmoid(z)\n",
    "\n",
    "\n",
    "if pred > 0.5:\n",
    "    speaker.Speak(\"Red\")\n",
    "    \n",
    "else:\n",
    "    speaker.Speak(\"Blue\")"
   ]
  }
 ],
 "metadata": {
  "kernelspec": {
   "display_name": "Python 3",
   "language": "python",
   "name": "python3"
  },
  "language_info": {
   "codemirror_mode": {
    "name": "ipython",
    "version": 3
   },
   "file_extension": ".py",
   "mimetype": "text/x-python",
   "name": "python",
   "nbconvert_exporter": "python",
   "pygments_lexer": "ipython3",
   "version": "3.7.0"
  }
 },
 "nbformat": 4,
 "nbformat_minor": 2
}
