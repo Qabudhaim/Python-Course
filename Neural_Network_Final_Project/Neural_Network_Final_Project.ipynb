{
 "cells": [
  {
   "cell_type": "code",
   "execution_count": 2,
   "metadata": {},
   "outputs": [],
   "source": [
    "#This project was inspired by the followig playlist:\n",
    "#https://www.youtube.com/playlist?list=PLxt59R_fWVzT9bDxA76AHm3ig0Gg9S3So"
   ]
  },
  {
   "cell_type": "code",
   "execution_count": 172,
   "metadata": {},
   "outputs": [],
   "source": [
    "#importing libraries we need in our learning process\n",
    "\n",
    "from matplotlib import pyplot as plt #I use this library to draw graphs \n",
    "import numpy as np #This library offers me mathmatecial functions\n",
    "import win32com.client #win32com.client library makes my pc pronounce some words\n",
    "\n",
    "speaker = win32com.client.Dispatch(\"SAPI.SpVoice\") #initializing an object in win32com.client library"
   ]
  },
  {
   "cell_type": "code",
   "execution_count": 173,
   "metadata": {},
   "outputs": [],
   "source": [
    "#My set of data [Height , Weight , Gender] 0 --> male , 1--> female\n",
    "#I used the .XXX format for heights & .XX foramt for weights to cross the gradient vanishing problem that happens bacause of using tanh or sigmoid functions as activation function\n",
    "\n",
    "Data = [[.179, .93  ,0],\n",
    "        [.182, .65  ,0],\n",
    "        [.176, .77  ,0],\n",
    "        [.183, .60  ,0],\n",
    "        [.165, .84  ,0],\n",
    "        [.179, .97  ,0],\n",
    "        [.168, .69  ,0],\n",
    "        [.190, .115 ,0],\n",
    "        [.176, .78  ,0],\n",
    "        [.170, .71  ,0],\n",
    "        [.161, .65  ,1],\n",
    "        [.159, .60  ,1],\n",
    "        [.170, .61  ,1],\n",
    "        [.170, .67  ,1],\n",
    "        [.162, .57  ,1],\n",
    "        [.163, .56  ,1],\n",
    "        [.158, .65  ,1],\n",
    "        [.162, .58  ,1],\n",
    "        [.154, .42  ,1],\n",
    "        [.155, .45  ,1],\n",
    "        [.154, .53  ,1]]\n"
   ]
  },
  {
   "cell_type": "code",
   "execution_count": 174,
   "metadata": {},
   "outputs": [
    {
     "data": {
      "image/png": "[encoded data removed]",
      "text/plain": [
       "<Figure size 432x288 with 1 Axes>"
      ]
     },
     "metadata": {
      "needs_background": "light"
     },
     "output_type": "display_data"
    }
   ],
   "source": [
    "#Plotting Data\n",
    "\n",
    "plt.grid() #this function gives my plot the grid look\n",
    "plt.axis([0.140 , 0.2 , 0.35 , 1.50]) #Determine my x axis and y axis points\n",
    "plt.xlabel(\"Height\") #labeling the x axis\n",
    "plt.ylabel(\"Weight\") #labeling the y axis\n",
    "\n",
    "for i in range(len(Data)):\n",
    "    point = Data[i] \n",
    "    color = 'r'\n",
    "    if point[2] == 0:\n",
    "        color = 'b'\n",
    "    plt.scatter(point[0] , point[1] , c = color) # plt.scatter(x point , y point , point color)"
   ]
  },
  {
   "cell_type": "code",
   "execution_count": 175,
   "metadata": {},
   "outputs": [],
   "source": [
    "#Define the Activation function\n",
    "\n",
    "def Tanh(x):\n",
    "    return (1 - np.exp(-2*x)) / (1 + np.exp(-2*x))\n",
    "\n",
    "def Tanh_p(x): #the derivative of my Activation function\n",
    "    return 1 - np.square(Tanh(x))"
   ]
  },
  {
   "cell_type": "code",
   "execution_count": 176,
   "metadata": {},
   "outputs": [
    {
     "data": {
      "text/plain": [
       "[<matplotlib.lines.Line2D at 0x1de74a510f0>]"
      ]
     },
     "execution_count": 176,
     "metadata": {},
     "output_type": "execute_result"
    },
    {
     "data": {
      "image/png": "[encoded data removed]",
      "text/plain": [
       "<Figure size 432x288 with 1 Axes>"
      ]
     },
     "metadata": {
      "needs_background": "light"
     },
     "output_type": "display_data"
    }
   ],
   "source": [
    "#plotting my functions in graphs to check if I am on the right way\n",
    "T = np.linspace(-6,6) #the range of the x axis is (-6,6)\n",
    "plt.plot(T , Tanh(T) , c = 'b')\n",
    "plt.plot(T , Tanh_p(T) , c = 'r') #plt.plot(x axis range , f(x) , Graph color)"
   ]
  },
  {
   "cell_type": "code",
   "execution_count": 177,
   "metadata": {},
   "outputs": [
    {
     "data": {
      "text/plain": [
       "[<matplotlib.lines.Line2D at 0x1de055ff550>]"
      ]
     },
     "execution_count": 177,
     "metadata": {},
     "output_type": "execute_result"
    },
    {
     "data": {
      "image/png": "[encoded data removed]",
      "text/plain": [
       "<Figure size 432x288 with 1 Axes>"
      ]
     },
     "metadata": {
      "needs_background": "light"
     },
     "output_type": "display_data"
    }
   ],
   "source": [
    "#Training loop\n",
    "\n",
    "Learning_rate = 0.02\n",
    "\n",
    "costs = []\n",
    "\n",
    "#initializing the weights and the bias as random values\n",
    "\n",
    "w1 = np.random.randn()\n",
    "w2 = np.random.randn()\n",
    "b  = np.random.randn()\n",
    "\n",
    "\n",
    "\n",
    "for i in range(500000): #The program will do 500000 iterations to train my module\n",
    "    \n",
    "    ri = np.random.randint(len(Data)) #This function will return a random index to choose a random set from Data\n",
    "    point = Data[ri]\n",
    "    \n",
    "    z = point[0]*w1 + point[1]*w2 + b #Our module\n",
    "    \n",
    "    #Some Calculus \n",
    "    \n",
    "    pred = Tanh(z)\n",
    "    Target = point[2]\n",
    "    cost = np.square(pred - Target)\n",
    "    \n",
    "    dcost_dpred = 2 * (pred - Target) #The partial derivative of the cost functon with respect to pred\n",
    "    dpred_dz = Tanh_p(z)  #The partial derivative of the pred functon with respect to z\n",
    "    dz_dw1 = point[0]  #The partial derivative of the z functon with respect to w1\n",
    "    dz_dw2 = point[1]  #The partial derivative of the z functon with respect to w2\n",
    "    dz_db  = 1  #The partial derivative of the z functon with respect to b\n",
    "    \n",
    "    \n",
    "    #Chain rule\n",
    "    \n",
    "    dcost_dw1 = dcost_dpred * dpred_dz * dz_dw1  #The derivative of the cost functon with respect to w1\n",
    "    dcost_dw2 = dcost_dpred * dpred_dz * dz_dw2  #The derivative of the cost functon with respect to w2\n",
    "    dcost_db  = dcost_dpred * dpred_dz * dz_db   #The derivative of the cost functon with respect to b\n",
    "    \n",
    "    w1 = w1 - Learning_rate * dcost_dw1\n",
    "    w2 = w2 - Learning_rate * dcost_dw2\n",
    "    b  = b  - Learning_rate * dcost_db\n",
    "    \n",
    "    \n",
    "  \n",
    "    if i%100 == 0:\n",
    "        cost_sum = 0\n",
    "        \n",
    "        for j in range(len(Data)): #This loop will update our costs list every 100 iteration so we can plot the costs in the future\n",
    "            point = Data[j]\n",
    "            z = point[0]*w1 + point[1]*w2 + b\n",
    "            pred = Tanh(z)\n",
    "            Target = point[2]\n",
    "            cost = np.square(pred - Target)\n",
    "            \n",
    "            cost_sum = cost_sum + cost\n",
    "    \n",
    "    \n",
    "    \n",
    "                \n",
    "    costs.append(cost_sum / len(Data))\n",
    "    \n",
    "plt.plot(costs)  #This function will plot costs list to check if our module is working or not"
   ]
  },
  {
   "cell_type": "code",
   "execution_count": 190,
   "metadata": {},
   "outputs": [
    {
     "name": "stdout",
     "output_type": "stream",
     "text": [
      "Female\n",
      "0.9997526950645345\n"
     ]
    }
   ],
   "source": [
    "#Testing our module\n",
    "\n",
    "Unknown = [.0 , .0]\n",
    "\n",
    "z = Unknown[0]*w1 + Unknown[1]*w2 + b\n",
    "pred = Tanh(z)\n",
    "\n",
    "if pred > .5 :\n",
    "    speaker.speak(\"Female\") #The program will pronounce \"Female\"\n",
    "    print(\"Female\")\n",
    "else:\n",
    "    speaker.speak(\"Male\") #The program will pronounce \"Male\"\n",
    "    print(\"Male\")\n",
    "    \n",
    "print(pred)"
   ]
  }
 ],
 "metadata": {
  "kernelspec": {
   "display_name": "Python 3",
   "language": "python",
   "name": "python3"
  },
  "language_info": {
   "codemirror_mode": {
    "name": "ipython",
    "version": 3
   },
   "file_extension": ".py",
   "mimetype": "text/x-python",
   "name": "python",
   "nbconvert_exporter": "python",
   "pygments_lexer": "ipython3",
   "version": "3.7.0"
  }
 },
 "nbformat": 4,
 "nbformat_minor": 2
}
